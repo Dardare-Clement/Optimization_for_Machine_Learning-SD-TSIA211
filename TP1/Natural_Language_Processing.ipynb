{
 "cells": [
  {
   "cell_type": "markdown",
   "id": "494533ef",
   "metadata": {},
   "source": [
    "# Natural Language Processing \n"
   ]
  },
  {
   "cell_type": "code",
   "execution_count": 3,
   "id": "cdde8377",
   "metadata": {},
   "outputs": [],
   "source": [
    "import numpy as np\n",
    "import tp_reglog_utils as utils\n",
    "import matplotlib.pyplot as plt"
   ]
  },
  {
   "cell_type": "code",
   "execution_count": 5,
   "id": "5611e1bf",
   "metadata": {},
   "outputs": [],
   "source": [
    "eX, y, eX_test, y_test = utils.load_data()\n",
    "n=len(y)"
   ]
  },
  {
   "cell_type": "markdown",
   "id": "931859c0",
   "metadata": {},
   "source": [
    "## Tikhonov regularization "
   ]
  },
  {
   "cell_type": "code",
   "execution_count": 2,
   "id": "299f4e04",
   "metadata": {},
   "outputs": [
    {
     "ename": "SyntaxError",
     "evalue": "incomplete input (2294005116.py, line 31)",
     "output_type": "error",
     "traceback": [
      "\u001b[0;36m  Cell \u001b[0;32mIn [2], line 31\u001b[0;36m\u001b[0m\n\u001b[0;31m    \u001b[0m\n\u001b[0m    ^\u001b[0m\n\u001b[0;31mSyntaxError\u001b[0m\u001b[0;31m:\u001b[0m incomplete input\n"
     ]
    }
   ],
   "source": [
    "def f1(w0,w,rho):\n",
    "    #return the function f1\n",
    "    f=0\n",
    "    norme2=0\n",
    "    for i in range (1,n):\n",
    "        prod=np.dot(np.transpose(eX[i]),w)\n",
    "        f+=np.log(1+np.exp(-y[i])*(prod+w0))\n",
    "    for i in range (len(w)):\n",
    "        norme2+=w[i]**2\n",
    "    return f/n+norme2*rho/2\n",
    "\n",
    "X=np.concatenate([1],eX)\n",
    "\n",
    "def grad_f1(w0,w,rho):\n",
    "    #return gradient of f1 \n",
    "    W=np.concatenate([w0],w)\n",
    "    v=np.zeros(1,p+1)\n",
    "    v[0]=w0\n",
    "    d=0\n",
    "    for i in range (n):\n",
    "        prod1=np.dot(np.transpose(X[i]),W)\n",
    "        prod2=np.dot(y,X.T)\n",
    "        prod2*(1/(1+np.exp(y[i]*(prod1))))+rho(W-v)\n",
    "    return -d/n\n",
    "\n",
    "def hess_f1 (w0, w ,rho):\n",
    "    \n",
    "    \n",
    "\n",
    "\n",
    "    "
   ]
  },
  {
   "cell_type": "code",
   "execution_count": 3,
   "id": "0a82c772",
   "metadata": {},
   "outputs": [
    {
     "ename": "SyntaxError",
     "evalue": "'(' was never closed (2025865348.py, line 12)",
     "output_type": "error",
     "traceback": [
      "\u001b[0;36m  Cell \u001b[0;32mIn [3], line 12\u001b[0;36m\u001b[0m\n\u001b[0;31m    Les_Y.append(np.log(np.linalg.norm(grad))\u001b[0m\n\u001b[0m                ^\u001b[0m\n\u001b[0;31mSyntaxError\u001b[0m\u001b[0;31m:\u001b[0m '(' was never closed\n"
     ]
    }
   ],
   "source": [
    "def newton_method (f, grad_f, hess_f, w0, eps):\n",
    "    w = w0\n",
    "    grad = grad_f(w)\n",
    "    Les_X=[]\n",
    "    Les_Y=[]\n",
    "    i=0\n",
    "    while (np.linalg.norm(grad)**2 > eps):\n",
    "        hess = hess_f(w)\n",
    "        w = w - np.linalg.inv(hess).dot(grad)\n",
    "        grad = grad_f(w)\n",
    "        Les_X.append(i)\n",
    "        Les_Y.append(np.log(np.linalg.norm(grad)))\n",
    "    return w, Les_X, Les_Y\n",
    "\n",
    "# Example usage\n",
    "w0 = np.array([0, 0])\n",
    "w_min, Les_X, Les_Y = newton_method(f1, grad_f1, hess_f1, w0)\n",
    "\n",
    "plt.figure()\n",
    "plt.plot(Les_Y,Les_Y)\n",
    "plt.show()"
   ]
  }
 ],
 "metadata": {
  "kernelspec": {
   "display_name": "Python 3.10.6 64-bit",
   "language": "python",
   "name": "python3"
  },
  "language_info": {
   "codemirror_mode": {
    "name": "ipython",
    "version": 3
   },
   "file_extension": ".py",
   "mimetype": "text/x-python",
   "name": "python",
   "nbconvert_exporter": "python",
   "pygments_lexer": "ipython3",
   "version": "3.10.6"
  },
  "vscode": {
   "interpreter": {
    "hash": "916dbcbb3f70747c44a77c7bcd40155683ae19c65e1c03b4aa3499c5328201f1"
   }
  }
 },
 "nbformat": 4,
 "nbformat_minor": 5
}
