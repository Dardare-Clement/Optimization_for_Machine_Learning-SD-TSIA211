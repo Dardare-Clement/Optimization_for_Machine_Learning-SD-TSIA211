{
 "cells": [
  {
   "cell_type": "markdown",
   "id": "494533ef",
   "metadata": {},
   "source": [
    "# Natural Language Processing \n"
   ]
  },
  {
   "cell_type": "code",
   "execution_count": 2,
   "id": "cdde8377",
   "metadata": {},
   "outputs": [],
   "source": [
    "import numpy as np"
   ]
  },
  {
   "cell_type": "code",
   "execution_count": 8,
   "id": "5611e1bf",
   "metadata": {},
   "outputs": [],
   "source": [
    "x=np.load(\"tfidf_matrix_97MB.npz\",allow_pickle=True)\n",
    "y=np.load(\"train_labels.npy\",allow_pickle=True)"
   ]
  },
  {
   "cell_type": "markdown",
   "id": "931859c0",
   "metadata": {},
   "source": [
    "## Tikhonov regularization "
   ]
  },
  {
   "cell_type": "code",
   "execution_count": 10,
   "id": "299f4e04",
   "metadata": {},
   "outputs": [],
   "source": [
    "def f1(w0,w):\n",
    "    #return the function f1\n",
    "    f=0\n",
    "    for i in range (1,n):\n",
    "        f+=np.log(1+np.exp(-y[i])*(np.transpose(x[i])*w+w0))\n",
    "    return f1=f/n\n",
    "\n",
    "def d1(w0,w):\n",
    "    #return derived of f1 in relation to w0\n",
    "    \n",
    "    "
   ]
  },
  {
   "cell_type": "raw",
   "id": "0a82c772",
   "metadata": {},
   "source": []
  }
 ],
 "metadata": {
  "kernelspec": {
   "display_name": "Python 3 (ipykernel)",
   "language": "python",
   "name": "python3"
  },
  "language_info": {
   "codemirror_mode": {
    "name": "ipython",
    "version": 3
   },
   "file_extension": ".py",
   "mimetype": "text/x-python",
   "name": "python",
   "nbconvert_exporter": "python",
   "pygments_lexer": "ipython3",
   "version": "3.9.13"
  }
 },
 "nbformat": 4,
 "nbformat_minor": 5
}
