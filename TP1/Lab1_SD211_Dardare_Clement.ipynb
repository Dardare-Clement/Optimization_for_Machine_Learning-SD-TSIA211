{
 "cells": [
  {
   "attachments": {},
   "cell_type": "markdown",
   "metadata": {
    "id": "hRzAg3cHwMrp"
   },
   "source": [
    "\n",
    "$$ \\Large \\underline{SD-TSIA211: \\space Optimization \\space For \\space Machine \\space Learning} $$\n",
    "\n",
    "<h1><center> Computer Lab 1 : Natural Language Processing</center></h1>\n",
    "\n",
    "<br>\n",
    "\n",
    "<h2>             Done by : </h2>\n",
    "\n",
    "<h2><center>Dardare Clement</center></h2>\n",
    "\n",
    "\n",
    "\n",
    "\n",
    "\n",
    "<br>\n",
    "\n",
    "<br>"
   ]
  },
  {
   "cell_type": "code",
   "execution_count": 1,
   "metadata": {
    "_cell_guid": "b1076dfc-b9ad-4769-8c92-a6c4dae69d19",
    "_uuid": "8f2839f25d086af736a60e9eeb907d3b93b6e0e5",
    "execution": {
     "iopub.execute_input": "2023-01-06T15:17:53.636608Z",
     "iopub.status.busy": "2023-01-06T15:17:53.636172Z",
     "iopub.status.idle": "2023-01-06T15:17:53.656993Z",
     "shell.execute_reply": "2023-01-06T15:17:53.655459Z",
     "shell.execute_reply.started": "2023-01-06T15:17:53.636567Z"
    },
    "id": "k4aiyqrowMrq"
   },
   "outputs": [],
   "source": [
    "import numpy as np\n",
    "from tp_reglog_utils import load_data\n",
    "from scipy.optimize import check_grad\n",
    "import math\n",
    "import warnings\n",
    "warnings.simplefilter(action='ignore') # setting ignore as a parameter and further adding category\n",
    "import matplotlib.pyplot as plt"
   ]
  },
  {
   "cell_type": "markdown",
   "metadata": {
    "id": "urLr8D7hwMrr"
   },
   "source": [
    "### Importing data"
   ]
  },
  {
   "cell_type": "code",
   "execution_count": 3,
   "metadata": {
    "colab": {
     "base_uri": "https://localhost:8080/",
     "height": 345
    },
    "execution": {
     "iopub.execute_input": "2023-01-06T15:17:35.932065Z",
     "iopub.status.busy": "2023-01-06T15:17:35.929668Z",
     "iopub.status.idle": "2023-01-06T15:17:36.108911Z",
     "shell.execute_reply": "2023-01-06T15:17:36.106849Z",
     "shell.execute_reply.started": "2023-01-06T15:17:35.931921Z"
    },
    "id": "_V1TWMu5wMrs",
    "outputId": "3d61a9b4-3beb-4b0f-d5de-b3ae09927cc7"
   },
   "outputs": [],
   "source": [
    "X, y, X_test, y_test = load_data(file_name_matrix='tfidf_matrix.npz', file_name_feature_names='feature_names.npy',\n",
    "\t      file_name_labels='train_labels.npy', samples_in_train_set=200,\n",
    "\t      samples_in_test_set=137562)"
   ]
  },
  {
   "cell_type": "markdown",
   "metadata": {
    "id": "-o3EvfbWwMrs"
   },
   "source": [
    "### Question 3.1"
   ]
  },
  {
   "cell_type": "markdown",
   "metadata": {
    "id": "oUwVE3DSwMrs"
   },
   "source": [
    "$$f_1 : (w_0, w) \\mapsto \\frac{1}{n} \\sum_{i=1}^n \\log(1 + \\exp(-y_i(x_i^T w + w_0))) + \\frac{\\rho}{2} \\|w\\|_2^2$$\n",
    "computing the gradient of f1 gives us : \n",
    "$$\\nabla f_1((w_0, w)) = \\begin{pmatrix} \n",
    "\\frac{\\partial f_{1}}{\\partial w_{0}} \\\\ \n",
    "\\frac{\\partial f_{1}}{\\partial w} \n",
    " \\end{pmatrix} =    \\begin{bmatrix}\n",
    "          \\frac{1}{n} \\sum_{i=1}^n \\frac {exp(-y_i.(x^T_i \\omega + \\omega_0))}{1 + exp(-y_i.(x^T_i \\omega + \\omega_0))} (-y_i)   \\\\\n",
    "          \\frac{1}{n} \\sum_{i=1}^n \\frac {exp(-y_i.(x^T_i \\omega + \\omega_0))}{1 + exp(-y_i.(x^T_i \\omega + \\omega_0))} (-y_i x_i) + \\rho . \\omega   \n",
    "         \\end{bmatrix}\n",
    "$$\n",
    "let's calculate each term of the Hessian matrix:\n",
    "$$\\frac{\\partial^2 f_1}{\\partial \\omega_{0}^2} = \\frac{1}{n}\\sum_{i=1}^{n}\\frac{y_{i}^2.exp(-y_{i}.(x_{i}^{T}\\omega+\\omega _{0}))}{(1+exp(-y_{i}.(x_{i}^{T}\\omega +\\omega _{0})))^2}$$\n",
    "\n",
    "$$\\frac{\\partial^2 f_1}{\\partial \\omega^2} = \\frac{1}{n}\\sum_{i=1}^{n}\\frac{y_{i}^2.x_{i}.x_{i}^T.exp(-y_{i}.(x_{i}^{T}\\omega+\\omega _{0}))}{(1+exp(-y_{i}.(x_{i}^{T}\\omega +\\omega _{0})))^2} + \\rho . I_p $$\n",
    "\n",
    "$$\\frac{\\partial^2 f_1}{\\partial \\omega.\\partial \\omega_{0}} = \\frac{1}{n}\\sum_{i=1}^{n}\\frac{y_{i}^{2}.x_{i}^T.exp(-y_{i}.(x_{i}^{T}\\omega+\\omega _{0}))}{(1+exp(-y_{i}.(x_{i}^{T}\\omega +\\omega _{0})))^2}$$\n",
    "\n",
    "$$\\frac{\\partial^2 f_1}{\\partial \\omega_{0}.\\partial \\omega} = \\frac{1}{n}\\sum_{i=1}^{n}\\frac{y_{i}^{2}.x_{i}^T.exp(-y_{i}.(x_{i}^{T}\\omega+\\omega _{0}))}{(1+exp(-y_{i}.(x_{i}^{T}\\omega +\\omega _{0})))^2}$$\n",
    "\n",
    "We can write the resulting matrix like written below: \n",
    "\n",
    "$$ \\frac{1}{n}\\sum_{i=1}^{n}\\frac{y_{i}^{2}.exp(-y_{i}.(x_{i}^{T}\\omega+\\omega _{0}))}{(1+exp(-y_{i}.(x_{i}^{T}\\omega +\\omega _{0})))^2}\\begin{pmatrix}\n",
    "1 &x_{i}^T \\\\ \n",
    "x_{i}^T &  x_{i}x_{i}^T\n",
    "\\end{pmatrix}\n",
    "+ \\rho \\begin{pmatrix}\n",
    "0&0 \\\\ \n",
    "0 &  I_{p}\n",
    "\\end{pmatrix}$$\n",
    "$\\space$\n",
    "\n",
    "From this expression, we can notice that it's a positive definite matrix, by adding the first term which is semi-definite and positive to the second term with $ρ > 0$, we ensure that all of the eigenvalues of the matrix are strictly positive. We can conclude that $f_1$ is convex.\n"
   ]
  },
  {
   "cell_type": "markdown",
   "metadata": {
    "id": "SNdiVSPzwMru"
   },
   "source": [
    "### Question 3.2"
   ]
  },
  {
   "cell_type": "code",
   "execution_count": 27,
   "metadata": {
    "id": "bODoR_r4wMru"
   },
   "outputs": [],
   "source": [
    "def Computing(w,w0,x,y,rho):\n",
    "    n=x.shape[0]\n",
    "#---------func\n",
    "    f1=0\n",
    "    i=0\n",
    "    while i<n :\n",
    "        f1+=np.log(1+np.exp(-y[i]*(np.dot(x[i],w)+w0)))\n",
    "        i=i+1\n",
    "    f1*=(1/x.shape[0])\n",
    "    f1 += rho/2 * np.linalg.norm(w)**2\n",
    "#-------------grad\n",
    "    fw0=0\n",
    "    fw=0 \n",
    "    i=0\n",
    "    while i<X.shape[0]:\n",
    "        S=(1+np.exp(-y[i]*(np.dot(x[i],w)+w0)))\n",
    "        fw0+=(1/S)*-y[i]*np.exp(-y[i]*(np.dot(x[i].T,w)+w0))\n",
    "        fw+=(1/S)*-y[i]*x[i]*np.exp(-y[i]*(np.dot(x[i].T,w)+w0))\n",
    "        i=i+1\n",
    "    fw*=(1/n)\n",
    "    fw0*=(1/n)\n",
    "    fw+=rho*w\n",
    "  #-----------hessian  \n",
    "  #calculating the Hessian matrix of f1(matrix made of 4 parts as shown in the previous question)\n",
    "    fww=0\n",
    "    fw0w0=0\n",
    "    fw0w=0\n",
    "    fww0=0\n",
    "    l = [np.dot(x[i], w) + w0 for i in range(x.shape[0])]\n",
    "    k=[np.exp(y[i] * l[i]) for i in range(x.shape[0])]\n",
    "\n",
    "    fw0w0 = [k[i] * y[i]**2 / (1 + k[i])**2 for i in range(x.shape[0])]\n",
    "    fw0w0= (1 / x.shape[0]) * sum(fw0w0)\n",
    "    fww = [np.outer(x[i], x[i]) * k[i] * y[i]**2 /(1 + k[i])**2 for i in range(X.shape[0])]\n",
    "    fww = (1 / x.shape[0]) * sum(fww) + rho * np.eye(x.shape[1])\n",
    "    fww0 = [x[i] * (k[i] * y[i]**2 / (1 + k[i])**2) for i in range(x.shape[0])]\n",
    "    fww0 = (1 / x.shape[0]) * sum(fww0)\n",
    "    hessian = np.block([[fw0w0,fww0.reshape(1, x.shape[1])],[fww0.reshape(x.shape[1], 1),  fww]])\n",
    "\n",
    "    return f1, np.append(fw0, fw), hessian"
   ]
  },
  {
   "cell_type": "code",
   "execution_count": 28,
   "metadata": {
    "id": "LqvP3VNPwMru"
   },
   "outputs": [],
   "source": [
    "rho = 1.0 / X.shape[0]\n",
    "w0 = 0.0\n",
    "w=np.zeros(X.shape[1])"
   ]
  },
  {
   "cell_type": "markdown",
   "metadata": {
    "id": "o2jhvUYpwMrv"
   },
   "source": [
    "Let's put the constructed functions into testing"
   ]
  },
  {
   "cell_type": "code",
   "execution_count": 29,
   "metadata": {
    "id": "5nDFVwPywMrv",
    "outputId": "cc934e3e-7146-4555-9784-4cae6abbed8f"
   },
   "outputs": [
    {
     "name": "stdout",
     "output_type": "stream",
     "text": [
      "3.404544259804307e-07\n"
     ]
    }
   ],
   "source": [
    "def func(wt):\n",
    "    w0 = wt[0]\n",
    "    w = wt[1:]\n",
    "    f,g,h=Computing(w,w0,X,y,rho)\n",
    "    return f\n",
    "\n",
    "def gradient(wt):\n",
    "    w0 = wt[0]\n",
    "    w = wt[1:]\n",
    "    f,g,h=Computing(w,w0,X,y,rho)\n",
    "    return g\n",
    "print(check_grad(func,gradient,np.append(w0,w)))"
   ]
  },
  {
   "attachments": {},
   "cell_type": "markdown",
   "metadata": {},
   "source": [
    "Check_grad returns an error of 3.40e-07 so our gradient is correct."
   ]
  },
  {
   "cell_type": "markdown",
   "metadata": {
    "id": "hZbllRzLwMrw"
   },
   "source": [
    "#### Question 3.3"
   ]
  },
  {
   "cell_type": "markdown",
   "metadata": {
    "id": "w8S-o4-vwMrw"
   },
   "source": [
    "Using the previously constructed Hessian matrix, Newton's method aims to converge within the smallest possible number of iterations.\n",
    "The algorithm :\n",
    "$${x_{k+1} = x_k - (\\nabla^2f(x_k))^{-1}.\\nabla f(x_k) }$$\n",
    "\n",
    "In convergence we have : ${x^*}$ : We can find epsilon such that :\n",
    "\n",
    "$${ \\|\\nabla f(x^*)\\| \\leq \\epsilon = 10^{-10} }$$\n"
   ]
  },
  {
   "cell_type": "code",
   "execution_count": 9,
   "metadata": {
    "id": "wud-j_wAwMrw"
   },
   "outputs": [],
   "source": [
    "def newton(x,y,w,w0,rho,eps):\n",
    "  f,g,h=Computing(w,w0,x,y,rho) # f: f1 , g: gradient of f1, h: hessiann matrix of f1\n",
    "  ng = np.linalg.norm(g[1:])   #norm of the gradient\n",
    "  #iterations\n",
    "  i=0\n",
    "  w0i=w0\n",
    "  wi=w\n",
    "  grad_norm = [ng]\n",
    "  grad_norm_log = [math.log(ng)]\n",
    "  while(ng>eps):\n",
    "    wk1 = np.append(w0i,wi)-np.linalg.solve(h,g) # (h)^(-1)*g is equal to np.linalg.solve(h,g)\n",
    "    w0i= wk1[0]\n",
    "    wi = wk1[1:]\n",
    "    f,g,h=Computing(wi,w0i,x,y,rho)\n",
    "    ng = np.linalg.norm(g[1:])\n",
    "    i += 1\n",
    "    grad_norm.append(ng)\n",
    "    grad_norm_log.append(math.log(ng))\n",
    "  return f, np.append(w0i,wi), i,grad_norm_log"
   ]
  },
  {
   "cell_type": "markdown",
   "metadata": {
    "id": "EkgNrkzqwMrx"
   },
   "source": [
    "Here we plot the norm of the gradient as a function of iterations in logarithmic scale for the specific case of the initial point ${(\\omega_0^0,\\omega^0)=0}$\n"
   ]
  },
  {
   "cell_type": "code",
   "execution_count": 10,
   "metadata": {
    "id": "SXCxUxEDwMrx",
    "outputId": "68c38cda-d63c-4879-a968-e48a39bed143"
   },
   "outputs": [
    {
     "name": "stdout",
     "output_type": "stream",
     "text": [
      "Number of iterations:  8\n",
      "Time used :  2.6877963542938232\n"
     ]
    }
   ],
   "source": [
    "import time\n",
    "rho = 1.0 / X.shape[0]\n",
    "epsilon = 10e-10\n",
    "w0 = 0.0\n",
    "w=np.zeros(X.shape[1])\n",
    "time1 = time.time()\n",
    "f,w,c,grad_norm_log = newton(X,y,w,w0,rho,epsilon)\n",
    "time2 = time.time()\n",
    "\n",
    "print(\"Number of iterations: \",c)\n",
    "print(\"Time used : \", (time2 - time1))"
   ]
  },
  {
   "cell_type": "markdown",
   "metadata": {
    "id": "LH1VU_irwMrx"
   },
   "source": [
    "Newton algorithm converges within 8 iterations."
   ]
  },
  {
   "cell_type": "code",
   "execution_count": 11,
   "metadata": {
    "id": "QaDaK8LWwMrx",
    "outputId": "de150fb6-b8d4-401d-fa27-d52c953d8c92"
   },
   "outputs": [
    {
     "data": {
      "image/png": "[encoded data removed]",
      "text/plain": [
       "<Figure size 640x480 with 1 Axes>"
      ]
     },
     "metadata": {},
     "output_type": "display_data"
    }
   ],
   "source": [
    "plt.figure()\n",
    "plt.plot(grad_norm_log)\n",
    "plt.show()"
   ]
  },
  {
   "cell_type": "markdown",
   "metadata": {
    "id": "TQRzPBK-wMrx"
   },
   "source": [
    "### *Question 3.4*"
   ]
  },
  {
   "cell_type": "markdown",
   "metadata": {
    "id": "lWV0RpgmwMrx"
   },
   "source": [
    "In this part, we will run newton algorithm with taking into account as initial point ${(\\omega_0^0,w^0)=e}$ with e a vector of ones"
   ]
  },
  {
   "cell_type": "code",
   "execution_count": 43,
   "metadata": {
    "id": "aCYqdP5_wMry",
    "outputId": "b51c9f07-f776-495c-fb3b-aa9636a1a50a"
   },
   "outputs": [
    {
     "name": "stdout",
     "output_type": "stream",
     "text": [
      "Number of iterations:  1\n",
      "Time used :  1.8653411865234375\n",
      "f =  inf\n"
     ]
    }
   ],
   "source": [
    "rho = 1.0 / X.shape[0]\n",
    "epsilon = 10e-10\n",
    "w0 = 1\n",
    "w=np.ones(X.shape[1])\n",
    "\n",
    "time1 = time.time()\n",
    "\n",
    "f,wt,c,grad_norm_log = newton(X,y,w,w0,rho,epsilon)\n",
    "time2 = time.time()\n",
    "\n",
    "print(\"Number of iterations: \",c)\n",
    "print(\"Time used : \", (time2 - time1))\n",
    "print('f = ', f)"
   ]
  },
  {
   "cell_type": "code",
   "execution_count": 44,
   "metadata": {},
   "outputs": [
    {
     "data": {
      "image/png": "[encoded data removed]",
      "text/plain": [
       "<Figure size 640x480 with 1 Axes>"
      ]
     },
     "metadata": {},
     "output_type": "display_data"
    }
   ],
   "source": [
    "plt.figure()\n",
    "plt.plot(grad_norm_log)\n",
    "plt.show()"
   ]
  },
  {
   "cell_type": "markdown",
   "metadata": {
    "id": "rGo-6mwxwMry"
   },
   "source": [
    "We observe an overflow in the gradient and function value, because the Newton method can't sovle this problem, the value is too big, and the algorithme will diverge. We need a good initialisation for wt=(w0,w) to obtain "
   ]
  },
  {
   "cell_type": "markdown",
   "metadata": {
    "id": "SpajQpBbwMry"
   },
   "source": [
    "### *Question 3.5*"
   ]
  },
  {
   "cell_type": "markdown",
   "metadata": {
    "id": "toXSwq5CwMry"
   },
   "source": [
    "Armijo's line search with a  Given $a ∈ [0;1]$, $b > 0$ and $β ∈ [0;1]$, will help us determine $l$ such that:\n",
    "\n",
    "$${f(x_k-ba^l.∇f(x_k))≤f(x_k)+<\\nabla f(x_k),-ba^l.∇f(x_k)>\n",
    "+ \\frac{1}{2ba^l}.\\|ba^l.∇f(x_k)\\|^2}$$"
   ]
  },
  {
   "cell_type": "code",
   "execution_count": 14,
   "metadata": {
    "id": "SEeziq9TwMry"
   },
   "outputs": [],
   "source": [
    "def armijolinesearch(w,f,g,lap,a,b):\n",
    "    l=1.0\n",
    "    beta=0.5\n",
    "    gamma=b*(a**l)\n",
    "    while (f(w-gamma*lap) > f(w)-beta*gamma*np.sum(g*lap)): #inequality of armijo\n",
    "        l += 1.0\n",
    "        gamma=b*(a**l) #knowing b and a, we will be able to find l\n",
    "\n",
    "    return gamma"
   ]
  },
  {
   "cell_type": "code",
   "execution_count": 15,
   "metadata": {
    "id": "uo378Kt-wMry"
   },
   "outputs": [],
   "source": [
    "from scipy import ndimage\n",
    "\n",
    "def newton_armijo(comp,w,w0,x,y,rho,eps,numMax):\n",
    "    \n",
    "    f,g,h=comp(w,w0,x,y,rho)\n",
    "    a=0.9\n",
    "    l=0.0\n",
    "    gamma=1.0\n",
    "    k=0\n",
    "    \n",
    "    gradnorm = [np.linalg.norm(g[1:])]\n",
    "    \n",
    "    lap = ndimage.laplace(np.append(w0,w))  #Laplacien \n",
    "\n",
    "    while(((np.linalg.norm(g[1:] > eps)) and (k < numMax))):\n",
    "        \n",
    "        gamma= armijolinesearch(np.append(w0,w),func,g,lap,a,2*gamma)\n",
    "        l =np.append(w0,w)-lap*gamma\n",
    "        \n",
    "        w0=l[0]\n",
    "        w=l[1:]\n",
    "        \n",
    "        f,g,h=comp(w,w0,x,y,rho)\n",
    "        \n",
    "        lap= ndimage.laplace(np.append(w0,w))\n",
    "        \n",
    "        gradnorm.append(np.linalg.norm(g[1:]))\n",
    "        k +=1  #number of iterations \n",
    "        \n",
    "    return f, np.append(w0, w), gradnorm, k"
   ]
  },
  {
   "cell_type": "code",
   "execution_count": 16,
   "metadata": {
    "id": "78Q8kGX1wMrz",
    "outputId": "32a68e0e-30de-4d05-8bbe-0eb913a5ca20"
   },
   "outputs": [
    {
     "name": "stdout",
     "output_type": "stream",
     "text": [
      "The value minimal of the objective function : 17.579562972378284\n",
      "The variable minimal of the objective function : \n",
      " [0.3 0.3 0.3 0.3 0.3 0.3 0.3 0.3 0.3 0.3 0.3 0.3 0.3 0.3 0.3 0.3 0.3 0.3\n",
      " 0.3 0.3 0.3 0.3 0.3 0.3 0.3 0.3 0.3 0.3 0.3 0.3 0.3 0.3 0.3 0.3 0.3 0.3\n",
      " 0.3 0.3 0.3 0.3 0.3 0.3 0.3 0.3 0.3 0.3 0.3 0.3 0.3 0.3 0.3 0.3 0.3 0.3\n",
      " 0.3 0.3 0.3 0.3 0.3 0.3 0.3 0.3 0.3 0.3 0.3 0.3 0.3 0.3 0.3 0.3 0.3 0.3\n",
      " 0.3 0.3 0.3 0.3 0.3 0.3 0.3 0.3 0.3 0.3 0.3 0.3 0.3 0.3 0.3 0.3 0.3 0.3\n",
      " 0.3 0.3 0.3 0.3 0.3 0.3 0.3 0.3 0.3 0.3 0.3 0.3 0.3 0.3 0.3 0.3 0.3 0.3\n",
      " 0.3 0.3 0.3 0.3 0.3 0.3 0.3 0.3 0.3 0.3 0.3 0.3 0.3 0.3 0.3 0.3 0.3 0.3\n",
      " 0.3 0.3 0.3 0.3 0.3 0.3 0.3 0.3 0.3 0.3 0.3 0.3 0.3 0.3 0.3 0.3 0.3 0.3\n",
      " 0.3 0.3 0.3 0.3 0.3 0.3 0.3 0.3 0.3 0.3 0.3 0.3 0.3 0.3 0.3 0.3 0.3 0.3\n",
      " 0.3 0.3 0.3 0.3 0.3 0.3 0.3 0.3 0.3 0.3 0.3 0.3 0.3 0.3 0.3 0.3 0.3 0.3\n",
      " 0.3 0.3 0.3 0.3 0.3 0.3 0.3 0.3 0.3 0.3 0.3 0.3 0.3 0.3 0.3 0.3 0.3 0.3\n",
      " 0.3 0.3 0.3 0.3 0.3 0.3 0.3 0.3 0.3 0.3 0.3 0.3 0.3 0.3 0.3 0.3 0.3 0.3\n",
      " 0.3 0.3 0.3 0.3 0.3 0.3 0.3 0.3 0.3 0.3 0.3 0.3 0.3 0.3 0.3 0.3 0.3 0.3\n",
      " 0.3 0.3 0.3 0.3 0.3 0.3 0.3 0.3 0.3 0.3 0.3 0.3 0.3 0.3 0.3 0.3 0.3 0.3\n",
      " 0.3 0.3 0.3 0.3 0.3 0.3 0.3 0.3 0.3 0.3 0.3 0.3 0.3 0.3 0.3 0.3 0.3 0.3\n",
      " 0.3 0.3 0.3 0.3 0.3 0.3 0.3 0.3 0.3 0.3 0.3 0.3 0.3 0.3 0.3 0.3 0.3 0.3\n",
      " 0.3 0.3 0.3 0.3 0.3 0.3 0.3 0.3 0.3 0.3 0.3 0.3 0.3 0.3 0.3 0.3 0.3 0.3\n",
      " 0.3 0.3 0.3 0.3 0.3 0.3 0.3 0.3 0.3 0.3 0.3 0.3 0.3 0.3 0.3 0.3 0.3 0.3\n",
      " 0.3 0.3 0.3 0.3 0.3 0.3 0.3 0.3 0.3 0.3 0.3 0.3 0.3 0.3 0.3 0.3 0.3 0.3\n",
      " 0.3 0.3 0.3 0.3 0.3 0.3 0.3 0.3 0.3 0.3 0.3 0.3 0.3 0.3 0.3 0.3 0.3 0.3\n",
      " 0.3 0.3 0.3 0.3 0.3 0.3 0.3 0.3 0.3 0.3 0.3 0.3 0.3 0.3 0.3 0.3 0.3 0.3\n",
      " 0.3 0.3 0.3 0.3 0.3 0.3 0.3 0.3 0.3 0.3 0.3 0.3 0.3 0.3 0.3 0.3 0.3 0.3\n",
      " 0.3 0.3 0.3 0.3 0.3 0.3 0.3 0.3 0.3 0.3 0.3 0.3 0.3 0.3 0.3 0.3 0.3 0.3\n",
      " 0.3 0.3 0.3 0.3 0.3 0.3 0.3 0.3 0.3 0.3 0.3 0.3 0.3 0.3 0.3 0.3 0.3 0.3\n",
      " 0.3 0.3 0.3 0.3 0.3 0.3 0.3 0.3 0.3 0.3 0.3 0.3 0.3 0.3 0.3 0.3 0.3 0.3\n",
      " 0.3 0.3 0.3 0.3 0.3 0.3 0.3 0.3 0.3 0.3 0.3 0.3 0.3 0.3 0.3 0.3 0.3 0.3\n",
      " 0.3 0.3 0.3 0.3 0.3 0.3 0.3 0.3 0.3 0.3 0.3 0.3 0.3 0.3 0.3 0.3 0.3 0.3\n",
      " 0.3 0.3 0.3 0.3 0.3 0.3 0.3 0.3 0.3 0.3 0.3 0.3 0.3 0.3 0.3 0.3 0.3 0.3\n",
      " 0.3 0.3 0.3 0.3 0.3 0.3 0.3 0.3 0.3 0.3 0.3 0.3 0.3 0.3 0.3 0.3 0.3 0.3\n",
      " 0.3 0.3 0.3 0.3 0.3 0.3 0.3 0.3 0.3 0.3 0.3 0.3 0.3 0.3 0.3 0.3 0.3 0.3\n",
      " 0.3 0.3 0.3 0.3 0.3 0.3 0.3 0.3 0.3 0.3 0.3 0.3 0.3 0.3 0.3 0.3 0.3 0.3\n",
      " 0.3 0.3 0.3 0.3 0.3 0.3 0.3 0.3 0.3 0.3 0.3 0.3 0.3 0.3 0.3 0.3 0.3 0.3\n",
      " 0.3]\n",
      "Times of iterations:  30\n",
      "Time used :  26.266438961029053\n"
     ]
    }
   ],
   "source": [
    "#Instanciation\n",
    "rho = 1.0 / X.shape[0]\n",
    "epsilon = 10e-10\n",
    "w0 = 0.3\n",
    "w = 0.3 * np.ones(X.shape[1])\n",
    "\n",
    "# with linear search\n",
    "time1 = time.time()\n",
    "val, wna, gradnorm, k = newton_armijo(Computing,w,w0,X,y,rho,epsilon,30)\n",
    "time2 = time.time()\n",
    "\n",
    "print(\"The value minimal of the objective function :\",val)\n",
    "print(\"The variable minimal of the objective function : \\n\",wna)\n",
    "print(\"Times of iterations: \", k)\n",
    "print(\"Time used : \", (time2 - time1))"
   ]
  },
  {
   "cell_type": "markdown",
   "metadata": {
    "id": "gu18nLi6wMrz"
   },
   "source": [
    "30 iterations to converge !"
   ]
  },
  {
   "cell_type": "markdown",
   "metadata": {
    "id": "D3kM9PW_wMrz"
   },
   "source": [
    "###  **4. Regularization for a sparse model**"
   ]
  },
  {
   "cell_type": "markdown",
   "metadata": {
    "id": "siCVQ8hUwMrz"
   },
   "source": [
    "#### *Question 4.1*"
   ]
  },
  {
   "cell_type": "markdown",
   "metadata": {
    "id": "RNYLSzlGwMrz"
   },
   "source": [
    "We can't use Newton's method to resolve the problem because the regularization term is not differentiable: $||.||_1$ \n",
    "\n",
    "\n",
    "We have the function:\n",
    "$$\\min_{w0\\in \\mathbb{R},w\\in \\mathbb{R}^{p+1}}\\dfrac {1} {n}\\sum _{i=1}^{n}\\log \\left( 1+e^{-y_{i}\\left( {x_{i}}^{T}w+w_{0}\\right) }\\right) + \\rho \\left\\| w\\right\\| _{1}\\displaystyle $$  \n",
    "Newton's method assumes that the function is 3-differentiable."
   ]
  },
  {
   "cell_type": "markdown",
   "metadata": {
    "id": "MA4OjhNqwMr0"
   },
   "source": [
    "### *Question 4.2*"
   ]
  },
  {
   "cell_type": "markdown",
   "metadata": {
    "id": "NGdRViIBwMr0"
   },
   "source": [
    "$ F_2 $ is decomposed in the form $F_2 = f_2 + g_2$ with "
   ]
  },
  {
   "cell_type": "markdown",
   "metadata": {
    "id": "f_MLB-8dwMr0"
   },
   "source": [
    "\n",
    "$$f_{2}  (\\omega_0, \\omega)= \\dfrac {1} {n}\\sum _{i=1}^{n}\\log \\left( 1+e^{-y_{i}\\left( {x_{i}}^{T}w+w_{0}\\right) }\\right) $$\n",
    " and  $$g_{2}  (\\omega)= \\rho \\left \\| \\omega \\right \\|_{1} $$ \n",
    "\n",
    "$[prox_{\\gamma g_2} (x)]_i=\n",
    "\\begin{cases}\n",
    "x_i + \\gamma\\rho & if & x_i < -\\gamma\\rho\\\\\n",
    "0              & if & |x_i| < \\gamma\\rho\\\\\n",
    "x_i - \\gamma\\rho & if & x_i > \\gamma\\rho \n",
    "\\end{cases}$\n",
    "\n",
    "\n",
    "for the gradient we have :\n",
    "\n",
    "$\\triangledown f_{2} (\\omega_0, \\omega) = \\frac{1}{n}\\sum_{i=1}^{n}\\frac{-y_{i}}{1+exp(y_{i}(x_{i}^{T}\\omega +\\omega _{0}))}\\begin{pmatrix}\n",
    "1\\\\x_{i} \\end{pmatrix}$\n"
   ]
  },
  {
   "cell_type": "markdown",
   "metadata": {
    "id": "0lLbKu_5wMr0"
   },
   "source": [
    "### *Question 4.3*"
   ]
  },
  {
   "cell_type": "code",
   "execution_count": 17,
   "metadata": {
    "id": "L4G-H4uFwMr0"
   },
   "outputs": [],
   "source": [
    "def f2(w,X,y):\n",
    "    \n",
    "    xw = [np.dot(X[i], w) for i in range(n)]\n",
    "    summ = [np.log(1+np.exp(-y[i]*xw[i])) for i in range(n)]\n",
    "    return 1.0/n*sum(summ)\n",
    "\n",
    "def gradf2(w,X,y):\n",
    "    \n",
    "    xw = [np.dot(X[i], w) for i in range(n)]\n",
    "    summ = [-y[i]/(1+np.exp(y[i]*xw[i]))*X[i].T for i in range(n)]\n",
    "    return np.ravel(1.0/n * sum(summ))\n",
    "\n",
    "def g2(w,rho):\n",
    "    \n",
    "    return rho * np.linalg.norm(w,ord=1)\n",
    "\n",
    "def F2(w,X,y,rho):\n",
    "    \n",
    "    return f2(w,X,y) + g2(w,rho)\n",
    "\n",
    "def obfunc2(w, X, y, rho):\n",
    "    \n",
    "    return f2(w,X,y), gradf2(w,X,y),F2(w,X,y,rho)"
   ]
  },
  {
   "cell_type": "code",
   "execution_count": 18,
   "metadata": {
    "id": "Nvqkgcv9wMr0"
   },
   "outputs": [],
   "source": [
    "def funcsoft(w,rho):\n",
    "    \n",
    "    sw = np.zeros_like(w)\n",
    "    sw[w > rho] = w[w > rho] - rho\n",
    "    sw[w < -rho] = w[w < -rho] + rho\n",
    "    sw[0] = w[0]\n",
    "    return sw\n",
    "\n",
    "def proximal_algo(g, w0, X, y, rho, tolerance = 1e-10, max_iter = 1e2):\n",
    "    \n",
    "    a = 0.5\n",
    "    b=1\n",
    "    1\n",
    "    val, grad, valF= g(w0, X, y, rho)\n",
    "    diff = tolerance + 1\n",
    "    k = 0\n",
    "    \n",
    "    while((diff > tolerance) and (k <= max_iter)):\n",
    "        \n",
    "        gamma = b\n",
    "        wk = funcsoft(w0 - gamma*grad, gamma*rho)\n",
    "        valk, gradk, valFk = g(wk, X, y, rho)\n",
    "        while(valk > val+np.sum(grad*(wk - w0)) + np.sum((w0 - wk)**2)/(2*gamma)):\n",
    "            gamma = gamma * a\n",
    "            wk = funcsoft(w0 - gamma*grad, gamma*rho)\n",
    "            valk, gradk, valFk = g(wk, X, y, rho)\n",
    "        diff = valF - valFk\n",
    "        w0 = wk\n",
    "        val, grad, valF = g(w0, X, y, rho)\n",
    "        b = 2 * gamma\n",
    "        k = k + 1    \n",
    "    return valF, w0, k"
   ]
  },
  {
   "cell_type": "code",
   "execution_count": 19,
   "metadata": {
    "id": "lBAmC-E1wMr1",
    "outputId": "af8407a0-c31f-4dd3-afb2-0b6826a6d771"
   },
   "outputs": [
    {
     "name": "stdout",
     "output_type": "stream",
     "text": [
      "91 Iterations done in 0.5087664127349854 seconds.\n",
      "Results: \n",
      "0.4260318315980992\n",
      "[ 1.81478190e-03  0.00000000e+00 -1.47861193e-01 -8.92797203e-02\n",
      "  0.00000000e+00  0.00000000e+00  5.67577087e-02  1.76749734e-01\n",
      "  0.00000000e+00  0.00000000e+00  0.00000000e+00  0.00000000e+00\n",
      "  0.00000000e+00  0.00000000e+00  0.00000000e+00  0.00000000e+00\n",
      "  4.29095242e-01  0.00000000e+00  0.00000000e+00  0.00000000e+00\n",
      "  0.00000000e+00  0.00000000e+00  0.00000000e+00  0.00000000e+00\n",
      " -3.23910162e-02  0.00000000e+00  2.25283058e-02  0.00000000e+00\n",
      "  2.40875686e-01  0.00000000e+00  0.00000000e+00  0.00000000e+00\n",
      "  0.00000000e+00  0.00000000e+00  0.00000000e+00  0.00000000e+00\n",
      "  0.00000000e+00  0.00000000e+00  0.00000000e+00 -5.00778019e-02\n",
      "  2.63154062e-01  0.00000000e+00 -2.84616005e-02  0.00000000e+00\n",
      "  0.00000000e+00  0.00000000e+00  7.48501236e-02  0.00000000e+00\n",
      "  0.00000000e+00  0.00000000e+00  0.00000000e+00 -8.04841019e-02\n",
      "  0.00000000e+00  0.00000000e+00  0.00000000e+00  0.00000000e+00\n",
      "  0.00000000e+00  2.15031716e-01  0.00000000e+00  0.00000000e+00\n",
      "  0.00000000e+00  5.70679286e-03  0.00000000e+00  0.00000000e+00\n",
      "  0.00000000e+00  0.00000000e+00  0.00000000e+00  0.00000000e+00\n",
      "  0.00000000e+00  8.17846753e-02  0.00000000e+00  0.00000000e+00\n",
      "  0.00000000e+00  0.00000000e+00  0.00000000e+00  0.00000000e+00\n",
      "  0.00000000e+00  0.00000000e+00  0.00000000e+00  0.00000000e+00\n",
      "  0.00000000e+00  0.00000000e+00  0.00000000e+00 -1.17538650e-01\n",
      "  0.00000000e+00 -6.12901875e-02  2.27732487e-01  0.00000000e+00\n",
      " -1.52981618e-01 -1.97962543e-01  0.00000000e+00  0.00000000e+00\n",
      "  6.07186752e-02 -3.31101268e-02  0.00000000e+00  0.00000000e+00\n",
      " -5.40384983e-02  0.00000000e+00  0.00000000e+00  0.00000000e+00\n",
      "  0.00000000e+00 -1.76322047e-01  0.00000000e+00  0.00000000e+00\n",
      "  0.00000000e+00  0.00000000e+00  0.00000000e+00  0.00000000e+00\n",
      " -2.60309115e-04  0.00000000e+00  8.23162446e-02  0.00000000e+00\n",
      "  0.00000000e+00  0.00000000e+00  0.00000000e+00  4.02748971e-01\n",
      "  0.00000000e+00  0.00000000e+00  0.00000000e+00  3.85376450e-02\n",
      "  0.00000000e+00  0.00000000e+00 -1.00165281e-01  0.00000000e+00\n",
      "  0.00000000e+00  0.00000000e+00 -1.65549112e-01  0.00000000e+00\n",
      "  0.00000000e+00  0.00000000e+00  0.00000000e+00  0.00000000e+00\n",
      "  0.00000000e+00  1.28594589e-01  2.84860287e-01  0.00000000e+00\n",
      "  0.00000000e+00  0.00000000e+00  0.00000000e+00  0.00000000e+00\n",
      "  0.00000000e+00  0.00000000e+00  0.00000000e+00  0.00000000e+00\n",
      "  0.00000000e+00  0.00000000e+00  0.00000000e+00 -9.57799692e-03\n",
      "  0.00000000e+00  0.00000000e+00  3.31670171e-02  0.00000000e+00\n",
      "  0.00000000e+00  0.00000000e+00  0.00000000e+00 -1.98804307e-01\n",
      "  0.00000000e+00  0.00000000e+00  0.00000000e+00  0.00000000e+00\n",
      "  0.00000000e+00 -1.02346143e-03  1.10102945e-01 -1.88102337e-01\n",
      "  0.00000000e+00  0.00000000e+00 -9.60092137e-02  4.52379149e-02\n",
      "  0.00000000e+00  0.00000000e+00  0.00000000e+00  0.00000000e+00\n",
      "  0.00000000e+00  0.00000000e+00  0.00000000e+00  0.00000000e+00\n",
      "  0.00000000e+00  5.24191373e-02  1.00097362e-01  0.00000000e+00\n",
      "  0.00000000e+00  0.00000000e+00  1.09471521e-01  0.00000000e+00\n",
      "  0.00000000e+00  0.00000000e+00  0.00000000e+00  0.00000000e+00\n",
      "  0.00000000e+00  0.00000000e+00  0.00000000e+00  0.00000000e+00\n",
      "  6.88372601e-02  0.00000000e+00  0.00000000e+00  0.00000000e+00\n",
      "  0.00000000e+00  1.50146069e-02  0.00000000e+00 -1.58873275e-02\n",
      "  0.00000000e+00 -4.84446436e-02  0.00000000e+00  0.00000000e+00\n",
      "  0.00000000e+00  0.00000000e+00  0.00000000e+00  0.00000000e+00\n",
      "  0.00000000e+00  0.00000000e+00  0.00000000e+00  0.00000000e+00\n",
      "  1.72163515e-01  0.00000000e+00  0.00000000e+00  0.00000000e+00\n",
      "  1.54286244e-01  0.00000000e+00  0.00000000e+00  0.00000000e+00\n",
      " -3.76751988e-02  0.00000000e+00  0.00000000e+00  0.00000000e+00\n",
      "  8.63324338e-02  0.00000000e+00  0.00000000e+00  0.00000000e+00\n",
      "  0.00000000e+00  3.50248896e-02  0.00000000e+00  1.79563665e-02\n",
      "  0.00000000e+00  0.00000000e+00  2.48620395e-01  0.00000000e+00\n",
      "  0.00000000e+00  0.00000000e+00  0.00000000e+00  0.00000000e+00\n",
      "  0.00000000e+00 -1.06228720e-02  0.00000000e+00  0.00000000e+00\n",
      "  0.00000000e+00  0.00000000e+00  0.00000000e+00  0.00000000e+00\n",
      "  0.00000000e+00  0.00000000e+00  0.00000000e+00  0.00000000e+00\n",
      "  0.00000000e+00  0.00000000e+00  0.00000000e+00  4.40959747e-02\n",
      "  0.00000000e+00  0.00000000e+00  0.00000000e+00  0.00000000e+00\n",
      "  0.00000000e+00  0.00000000e+00  0.00000000e+00 -3.14716326e-02\n",
      "  0.00000000e+00  1.88719933e-02  0.00000000e+00  0.00000000e+00\n",
      "  0.00000000e+00  0.00000000e+00  0.00000000e+00  0.00000000e+00\n",
      "  0.00000000e+00  0.00000000e+00  0.00000000e+00  0.00000000e+00\n",
      "  0.00000000e+00  0.00000000e+00  0.00000000e+00 -5.61866780e-02\n",
      "  0.00000000e+00 -6.57888112e-02  0.00000000e+00  0.00000000e+00\n",
      "  0.00000000e+00  0.00000000e+00  0.00000000e+00  0.00000000e+00\n",
      "  0.00000000e+00  2.10317030e-02  3.83425685e-02  0.00000000e+00\n",
      "  0.00000000e+00  0.00000000e+00  0.00000000e+00  0.00000000e+00\n",
      "  0.00000000e+00  0.00000000e+00  0.00000000e+00  0.00000000e+00\n",
      "  1.12458495e-01  0.00000000e+00  0.00000000e+00  0.00000000e+00\n",
      "  0.00000000e+00  0.00000000e+00  0.00000000e+00 -2.01950488e-01\n",
      "  0.00000000e+00  0.00000000e+00  0.00000000e+00  0.00000000e+00\n",
      "  0.00000000e+00  0.00000000e+00  0.00000000e+00  0.00000000e+00\n",
      "  0.00000000e+00  0.00000000e+00  0.00000000e+00 -2.65549642e-02\n",
      "  0.00000000e+00  0.00000000e+00  0.00000000e+00  2.21863893e-02\n",
      "  0.00000000e+00  0.00000000e+00  0.00000000e+00 -9.25464132e-02\n",
      "  0.00000000e+00  0.00000000e+00  1.53182049e-01  0.00000000e+00\n",
      "  7.93868781e-02  0.00000000e+00  0.00000000e+00  4.65577098e-02\n",
      "  1.72070450e-02  8.91821783e-02  0.00000000e+00  0.00000000e+00\n",
      "  0.00000000e+00 -1.94239335e-04  0.00000000e+00  0.00000000e+00\n",
      "  0.00000000e+00  0.00000000e+00  0.00000000e+00  0.00000000e+00\n",
      "  0.00000000e+00  0.00000000e+00  0.00000000e+00  0.00000000e+00\n",
      "  0.00000000e+00  0.00000000e+00  0.00000000e+00  0.00000000e+00\n",
      "  1.90405457e-01  0.00000000e+00  0.00000000e+00  0.00000000e+00\n",
      "  0.00000000e+00  0.00000000e+00  0.00000000e+00  0.00000000e+00\n",
      "  5.94584135e-02  0.00000000e+00  0.00000000e+00  0.00000000e+00\n",
      "  3.00187880e-02  0.00000000e+00  3.63782729e-02  0.00000000e+00\n",
      "  0.00000000e+00  0.00000000e+00  0.00000000e+00  0.00000000e+00\n",
      "  0.00000000e+00  0.00000000e+00  0.00000000e+00  0.00000000e+00\n",
      "  4.41956425e-03  0.00000000e+00  1.25287796e-01  0.00000000e+00\n",
      "  0.00000000e+00  3.88975117e-02  8.53563788e-02  0.00000000e+00\n",
      "  0.00000000e+00  0.00000000e+00  0.00000000e+00  0.00000000e+00\n",
      " -5.16621177e-03  0.00000000e+00  0.00000000e+00  0.00000000e+00\n",
      "  0.00000000e+00  0.00000000e+00  0.00000000e+00  0.00000000e+00\n",
      "  0.00000000e+00  7.52221207e-03  0.00000000e+00  0.00000000e+00\n",
      "  0.00000000e+00  0.00000000e+00  0.00000000e+00  0.00000000e+00\n",
      "  0.00000000e+00  0.00000000e+00  0.00000000e+00  0.00000000e+00\n",
      "  0.00000000e+00  0.00000000e+00  0.00000000e+00  0.00000000e+00\n",
      "  0.00000000e+00  0.00000000e+00  0.00000000e+00  0.00000000e+00\n",
      "  0.00000000e+00 -6.52798594e-02  9.54571690e-02  0.00000000e+00\n",
      "  0.00000000e+00  0.00000000e+00  0.00000000e+00  0.00000000e+00\n",
      "  0.00000000e+00  0.00000000e+00  0.00000000e+00  0.00000000e+00\n",
      "  0.00000000e+00  0.00000000e+00  0.00000000e+00  0.00000000e+00\n",
      " -1.26783525e-01  0.00000000e+00 -1.17314953e-01  0.00000000e+00\n",
      "  0.00000000e+00  0.00000000e+00  0.00000000e+00  0.00000000e+00\n",
      "  0.00000000e+00  0.00000000e+00  0.00000000e+00  0.00000000e+00\n",
      "  0.00000000e+00  0.00000000e+00 -9.50809913e-03  0.00000000e+00\n",
      "  0.00000000e+00  0.00000000e+00  1.42593062e-01  0.00000000e+00\n",
      "  0.00000000e+00  0.00000000e+00 -5.29989868e-02  0.00000000e+00\n",
      "  0.00000000e+00 -3.02872851e-01  7.63246929e-03  0.00000000e+00\n",
      " -2.93949745e-01  1.57130089e-01  0.00000000e+00  1.88080239e-01\n",
      "  0.00000000e+00  0.00000000e+00  0.00000000e+00  0.00000000e+00\n",
      "  0.00000000e+00  0.00000000e+00  0.00000000e+00  0.00000000e+00\n",
      "  0.00000000e+00  0.00000000e+00  0.00000000e+00  0.00000000e+00\n",
      "  0.00000000e+00  0.00000000e+00  0.00000000e+00  0.00000000e+00\n",
      "  1.48093509e-01  0.00000000e+00  0.00000000e+00  0.00000000e+00\n",
      "  0.00000000e+00  0.00000000e+00  0.00000000e+00  0.00000000e+00\n",
      "  1.53540117e-01  0.00000000e+00  0.00000000e+00  0.00000000e+00\n",
      "  0.00000000e+00  0.00000000e+00  1.23912133e-01  0.00000000e+00\n",
      "  0.00000000e+00  0.00000000e+00  0.00000000e+00  0.00000000e+00\n",
      "  0.00000000e+00  0.00000000e+00  0.00000000e+00 -3.04965180e-01\n",
      "  0.00000000e+00  0.00000000e+00  0.00000000e+00 -4.84006528e-02\n",
      "  0.00000000e+00  0.00000000e+00  0.00000000e+00  0.00000000e+00\n",
      " -7.34393075e-02  0.00000000e+00  0.00000000e+00  3.91464972e-02\n",
      "  0.00000000e+00  0.00000000e+00  0.00000000e+00  0.00000000e+00\n",
      "  0.00000000e+00  0.00000000e+00  0.00000000e+00  0.00000000e+00\n",
      "  0.00000000e+00  0.00000000e+00  0.00000000e+00 -2.00482066e-01\n",
      "  0.00000000e+00  0.00000000e+00  0.00000000e+00  0.00000000e+00\n",
      "  0.00000000e+00  0.00000000e+00  0.00000000e+00  0.00000000e+00\n",
      "  1.84711159e-01  0.00000000e+00  0.00000000e+00  0.00000000e+00\n",
      "  1.33599118e-01  0.00000000e+00  0.00000000e+00  0.00000000e+00\n",
      "  0.00000000e+00  0.00000000e+00  0.00000000e+00  0.00000000e+00\n",
      "  0.00000000e+00  0.00000000e+00  0.00000000e+00  0.00000000e+00\n",
      "  1.88128532e-01  0.00000000e+00  0.00000000e+00  0.00000000e+00\n",
      "  9.50705254e-03  0.00000000e+00 -2.52634216e-01  0.00000000e+00\n",
      "  0.00000000e+00  0.00000000e+00  0.00000000e+00  0.00000000e+00\n",
      "  0.00000000e+00  0.00000000e+00  0.00000000e+00  0.00000000e+00\n",
      "  3.67372094e-03  0.00000000e+00  0.00000000e+00  0.00000000e+00\n",
      "  0.00000000e+00]\n"
     ]
    }
   ],
   "source": [
    "import time\n",
    "import numpy as np\n",
    "\n",
    "rho = 0.02\n",
    "time1 = time.time()\n",
    "n,p = X.shape\n",
    "X1 = np.column_stack((np.ones(n), X))\n",
    "w = 0.5*np.ones_like(X1[0])\n",
    "\n",
    "val, sol_l1, k = proximal_algo(obfunc2, w, X1, y, rho, 1e-10)\n",
    "time2 = time.time()\n",
    "\n",
    "print(\"{} Iterations done in {} seconds.\".format(k,time2-time1))\n",
    "print(\"Results: \")\n",
    "print(val)\n",
    "print(sol_l1)"
   ]
  },
  {
   "cell_type": "markdown",
   "metadata": {
    "id": "Gw0SZ_SHwMr1"
   },
   "source": [
    "### **6. Comparison**"
   ]
  },
  {
   "cell_type": "markdown",
   "metadata": {
    "id": "hxYdJ_jnwMr1"
   },
   "source": [
    "#### *Question 6.1*"
   ]
  },
  {
   "cell_type": "markdown",
   "metadata": {
    "id": "srmc1ED-wMr1"
   },
   "source": [
    "Despite both being convex functions, only the first is differentiable, while the second isn't.\n",
    "\n",
    "Whenever the initial values are within Newton's convergence zone, the method converges quickly."
   ]
  },
  {
   "cell_type": "markdown",
   "metadata": {
    "id": "fiNTeNfWwMr1"
   },
   "source": [
    "##### *Question 6.2*\n",
    "As you can see in the first representation, predictor values vary depending upon the values taken by $\\omega$ and $\\omega_0$. Alternatively, the predictors in the second representation are null."
   ]
  }
 ],
 "metadata": {
  "colab": {
   "provenance": []
  },
  "kernelspec": {
   "display_name": "Python 3 (ipykernel)",
   "language": "python",
   "name": "python3"
  },
  "language_info": {
   "codemirror_mode": {
    "name": "ipython",
    "version": 3
   },
   "file_extension": ".py",
   "mimetype": "text/x-python",
   "name": "python",
   "nbconvert_exporter": "python",
   "pygments_lexer": "ipython3",
   "version": "3.10.9"
  },
  "vscode": {
   "interpreter": {
    "hash": "3de47306cc7b2ce29213b9210aebfc4e3fd15d4ecf093df2e23dc9a03e99d0dd"
   }
  }
 },
 "nbformat": 4,
 "nbformat_minor": 1
}
