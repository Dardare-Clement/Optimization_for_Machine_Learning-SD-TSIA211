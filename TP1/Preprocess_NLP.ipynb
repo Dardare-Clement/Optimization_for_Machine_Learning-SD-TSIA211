{
 "cells": [
  {
   "cell_type": "code",
   "execution_count": 1,
   "metadata": {},
   "outputs": [],
   "source": [
    "import numpy as np\n",
    "import pandas as pd\n",
    "import nltk\n",
    "from sklearn.feature_extraction.text import TfidfVectorizer, CountVectorizer\n",
    "import scipy.sparse as sp"
   ]
  },
  {
   "cell_type": "code",
   "execution_count": 2,
   "metadata": {},
   "outputs": [
    {
     "name": "stderr",
     "output_type": "stream",
     "text": [
      "[nltk_data] Downloading package punkt to /home/ofercoq/nltk_data...\n",
      "[nltk_data]   Package punkt is already up-to-date!\n"
     ]
    },
    {
     "data": {
      "text/plain": [
       "True"
      ]
     },
     "execution_count": 2,
     "metadata": {},
     "output_type": "execute_result"
    }
   ],
   "source": [
    "nltk.download('punkt')"
   ]
  },
  {
   "cell_type": "code",
   "execution_count": 3,
   "metadata": {},
   "outputs": [],
   "source": [
    "from nltk.stem.snowball import FrenchStemmer\n",
    "from nltk.tokenize import word_tokenize"
   ]
  },
  {
   "cell_type": "code",
   "execution_count": 4,
   "metadata": {},
   "outputs": [],
   "source": [
    "stemmer = FrenchStemmer()"
   ]
  },
  {
   "cell_type": "code",
   "execution_count": 5,
   "metadata": {},
   "outputs": [],
   "source": [
    "path = \"./\"  # \"/data/ofercoq/datasets/granddebat/\"\n",
    "file = \"la-transition-ecologique.csv\"\n",
    "df = pd.read_csv(path+file, low_memory=False)\n",
    "pd.set_option('display.max_columns', 27)"
   ]
  },
  {
   "cell_type": "code",
   "execution_count": 6,
   "metadata": {},
   "outputs": [],
   "source": [
    "train_data = df[df.columns[[2, 11, 12, 16, 17, 18, 20, 22, 23, 24, 25, 26]]]\n",
    "train_labels = df[df.columns[13]]"
   ]
  },
  {
   "cell_type": "code",
   "execution_count": 7,
   "metadata": {},
   "outputs": [],
   "source": [
    "no_answer = train_labels.isnull()\n",
    "train_data = train_data[~no_answer]\n",
    "train_labels = train_labels[~no_answer]\n",
    "train_data[train_data.isnull()] = ''"
   ]
  },
  {
   "cell_type": "code",
   "execution_count": 8,
   "metadata": {},
   "outputs": [
    {
     "data": {
      "text/plain": [
       "(138562,)"
      ]
     },
     "execution_count": 8,
     "metadata": {},
     "output_type": "execute_result"
    }
   ],
   "source": [
    "train_data_concatenated = train_data[train_data.columns[0]]\n",
    "for i in range(train_data.shape[1]-1):\n",
    "    train_data_concatenated += \" \"+train_data[train_data.columns[i+1]]\n",
    "train_data_concatenated_array = np.array(train_data_concatenated)\n",
    "train_data_concatenated_array.shape"
   ]
  },
  {
   "cell_type": "code",
   "execution_count": 9,
   "metadata": {},
   "outputs": [],
   "source": [
    "#train_data_concatenated_array_stemmed = train_data_concatenated_array.copy()\n",
    "#for i in range(train_data_concatenated_array.shape[0]):\n",
    "#    train_data_concatenated_array_stemmed[i] = \"\"\n",
    "#    for word in word_tokenize(train_data_concatenated_array[i]):\n",
    "#        train_data_concatenated_array_stemmed[i] += stemmer.stem(word) + \" \""
   ]
  },
  {
   "cell_type": "code",
   "execution_count": 10,
   "metadata": {},
   "outputs": [],
   "source": [
    "def tokenize_map(text):\n",
    "    tokens = nltk.word_tokenize(text)\n",
    "    stems = list(map(stemmer.stem, tokens))\n",
    "    return stems\n",
    "\n",
    "def tokenize(text):\n",
    "    tokens = nltk.word_tokenize(text)\n",
    "    stems = tokens\n",
    "    i = 0\n",
    "    for item in tokens:\n",
    "        stems[i] = stemmer.stem(item)\n",
    "        i = i+1\n",
    "    return stems"
   ]
  },
  {
   "cell_type": "code",
   "execution_count": 11,
   "metadata": {},
   "outputs": [],
   "source": [
    "tf_transformer = TfidfVectorizer(tokenizer=tokenize_map, \n",
    "                                 max_df=0.9, min_df=500, stop_words=[\"'\", \"''\", '!', '%', '#', '*',\n",
    "                        '&', '(', ')', '+', '-', '.', '..', '...', '/', ':', ';', '=', '>', '?', '``', 'a'])\n",
    "TF_IDF_matrix = tf_transformer.fit_transform(train_data_concatenated)\n",
    "TF_IDF_feature_names = tf_transformer.get_feature_names()"
   ]
  },
  {
   "cell_type": "code",
   "execution_count": 12,
   "metadata": {
    "scrolled": false
   },
   "outputs": [],
   "source": [
    "# TF_IDF_feature_names"
   ]
  },
  {
   "cell_type": "code",
   "execution_count": 23,
   "metadata": {},
   "outputs": [],
   "source": []
  },
  {
   "cell_type": "code",
   "execution_count": 13,
   "metadata": {},
   "outputs": [
    {
     "data": {
      "text/plain": [
       "array(['solidaire', 'mobilités', 'appui', 'avait', 'sites', 'privilégie',\n",
       "       'change', 'prenant', 'preuve', 'tard', 'devoir', 'attend',\n",
       "       'majorité', 'public', 'deja', 'véritable', 'circuits',\n",
       "       'réellement', 'privés', 'initiatives', 'pense', 'couvert',\n",
       "       'important', 'mette', 'sélectif', 'fenêtres', 'nationale', 'sera',\n",
       "       'transition', 'aides', 'ça', 'évite', 'logement', 'été',\n",
       "       'changement', 'courts', 'trop', 'déplacements', 'écologie', 'fais',\n",
       "       'mon', 'tri', 'faire', 'isolation', 'elles', 'si', 'utilise',\n",
       "       'voiture', 'marche', 'temps', 'forme', 'service', 'problème',\n",
       "       'cela', 'monde', 'mise', 'locales', 'ont', 'ces', 'idées',\n",
       "       'bonnes', 'état', 'déjà', 'alimentation', 'toute', 'sous',\n",
       "       'passer', 'pourquoi', 'ce', 'toutes', 'je', 'qu', 'beaucoup', 'ai',\n",
       "       'mettre', 'autres', 'que', 'on', 'est', 'tout', 'économique',\n",
       "       'politique', 'qui', 'mais', 'par', 'sur', 'écologique', 'un', 'du',\n",
       "       'une', 'pas', 'plus', 'il', 'commun', 'pour'], dtype='<U18')"
      ]
     },
     "execution_count": 13,
     "metadata": {},
     "output_type": "execute_result"
    }
   ],
   "source": [
    "np.array(TF_IDF_feature_names)[np.nonzero(TF_IDF_matrix[1542])[1]]"
   ]
  },
  {
   "cell_type": "code",
   "execution_count": 14,
   "metadata": {},
   "outputs": [
    {
     "data": {
      "text/plain": [
       "matrix([[0.13962582, 0.14714463, 0.15782209, 0.11884102, 0.12228986,\n",
       "         0.11587404, 0.1236382 , 0.12588589, 0.12831158, 0.11875968,\n",
       "         0.12900338, 0.14621128, 0.11824537, 0.18139695, 0.13414498,\n",
       "         0.11057821, 0.09045538, 0.10221698, 0.11494557, 0.10907544,\n",
       "         0.08526128, 0.16112795, 0.09230105, 0.14469918, 0.08073706,\n",
       "         0.11437492, 0.1045019 , 0.09165232, 0.12023047, 0.06556716,\n",
       "         0.08561181, 0.11028289, 0.08807074, 0.08617632, 0.07529419,\n",
       "         0.17765961, 0.06607831, 0.06637952, 0.07283861, 0.07053236,\n",
       "         0.10802259, 0.05616935, 0.12770939, 0.0663099 , 0.08607056,\n",
       "         0.05571996, 0.07525806, 0.04641824, 0.08504549, 0.07186995,\n",
       "         0.11528173, 0.17900767, 0.07802197, 0.06022736, 0.06978846,\n",
       "         0.08047998, 0.08038063, 0.06844579, 0.05794964, 0.11198053,\n",
       "         0.108003  , 0.06018817, 0.21835508, 0.09023761, 0.07850986,\n",
       "         0.08584118, 0.08317245, 0.08131616, 0.04406873, 0.06822774,\n",
       "         0.19460176, 0.04835351, 0.07091698, 0.06098014, 0.05940919,\n",
       "         0.05656136, 0.13859309, 0.05141159, 0.03546692, 0.09791776,\n",
       "         0.08463776, 0.07069218, 0.036175  , 0.13696568, 0.03704075,\n",
       "         0.03558616, 0.05447386, 0.10088084, 0.03633372, 0.09908784,\n",
       "         0.06708565, 0.06663287, 0.15389534, 0.03593895, 0.11674931]])"
      ]
     },
     "execution_count": 14,
     "metadata": {},
     "output_type": "execute_result"
    }
   ],
   "source": [
    "TF_IDF_matrix[1542][np.nonzero(TF_IDF_matrix[1542])]"
   ]
  },
  {
   "cell_type": "code",
   "execution_count": 29,
   "metadata": {},
   "outputs": [],
   "source": [
    "sp.save_npz('tfidf_matrix.npz', TF_IDF_matrix)\n",
    "np.save('feature_names.npy', TF_IDF_feature_names)\n",
    "np.save('train_labels.npy', np.array(train_labels))\n",
    "# sparse_matrix = scipy.sparse.load_npz('/tmp/sparse_matrix.npz')"
   ]
  },
  {
   "cell_type": "code",
   "execution_count": null,
   "metadata": {},
   "outputs": [],
   "source": []
  }
 ],
 "metadata": {
  "kernelspec": {
   "display_name": "Python 3 (ipykernel)",
   "language": "python",
   "name": "python3"
  },
  "language_info": {
   "codemirror_mode": {
    "name": "ipython",
    "version": 3
   },
   "file_extension": ".py",
   "mimetype": "text/x-python",
   "name": "python",
   "nbconvert_exporter": "python",
   "pygments_lexer": "ipython3",
   "version": "3.9.13"
  }
 },
 "nbformat": 4,
 "nbformat_minor": 2
}
